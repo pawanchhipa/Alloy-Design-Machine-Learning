{
 "cells": [
  {
   "cell_type": "markdown",
   "metadata": {},
   "source": [
    "# Alloy Property Prediction Analysis\n",
    "\n",
    "This notebook demonstrates the usage of the AlloyPredictor class for analyzing and predicting alloy properties."
   ]
  },
  {
   "cell_type": "code",
   "execution_count": 1,
   "metadata": {},
   "outputs": [],
   "source": [
    "import sys\n",
    "sys.path.append('..')\n",
    "\n",
    "import pandas as pd\n",
    "import numpy as np\n",
    "import matplotlib.pyplot as plt\n",
    "from alloy_ml_prediction import AlloyPredictor"
   ]
  },
  {
   "cell_type": "markdown",
   "metadata": {},
   "source": [
    "## Load and Examine Data"
   ]
  },
  {
   "cell_type": "code",
   "execution_count": 2,
   "metadata": {},
   "outputs": [
    {
     "name": "stdout",
     "output_type": "stream",
     "text": [
      "Features shape: (10, 5)\n",
      "\n",
      "First few rows of features:\n"
     ]
    },
    {
     "data": {
      "text/html": [
       "<div>\n",
       "<style scoped>\n",
       "    .dataframe tbody tr th:only-of-type {\n",
       "        vertical-align: middle;\n",
       "    }\n",
       "\n",
       "    .dataframe tbody tr th {\n",
       "        vertical-align: top;\n",
       "    }\n",
       "\n",
       "    .dataframe thead th {\n",
       "        text-align: right;\n",
       "    }\n",
       "</style>\n",
       "<table border=\"1\" class=\"dataframe\">\n",
       "  <thead>\n",
       "    <tr style=\"text-align: right;\">\n",
       "      <th></th>\n",
       "      <th>C1</th>\n",
       "      <th>C2</th>\n",
       "      <th>C3</th>\n",
       "      <th>C4</th>\n",
       "      <th>C5</th>\n",
       "    </tr>\n",
       "  </thead>\n",
       "  <tbody>\n",
       "    <tr>\n",
       "      <th>0</th>\n",
       "      <td>0.20</td>\n",
       "      <td>0.30</td>\n",
       "      <td>0.15</td>\n",
       "      <td>0.25</td>\n",
       "      <td>0.1</td>\n",
       "    </tr>\n",
       "    <tr>\n",
       "      <th>1</th>\n",
       "      <td>0.25</td>\n",
       "      <td>0.25</td>\n",
       "      <td>0.20</td>\n",
       "      <td>0.20</td>\n",
       "      <td>0.1</td>\n",
       "    </tr>\n",
       "    <tr>\n",
       "      <th>2</th>\n",
       "      <td>0.30</td>\n",
       "      <td>0.20</td>\n",
       "      <td>0.25</td>\n",
       "      <td>0.15</td>\n",
       "      <td>0.1</td>\n",
       "    </tr>\n",
       "    <tr>\n",
       "      <th>3</th>\n",
       "      <td>0.15</td>\n",
       "      <td>0.35</td>\n",
       "      <td>0.20</td>\n",
       "      <td>0.20</td>\n",
       "      <td>0.1</td>\n",
       "    </tr>\n",
       "    <tr>\n",
       "      <th>4</th>\n",
       "      <td>0.25</td>\n",
       "      <td>0.30</td>\n",
       "      <td>0.15</td>\n",
       "      <td>0.20</td>\n",
       "      <td>0.1</td>\n",
       "    </tr>\n",
       "  </tbody>\n",
       "</table>\n",
       "</div>"
      ],
      "text/plain": [
       "     C1    C2    C3    C4   C5\n",
       "0  0.20  0.30  0.15  0.25  0.1\n",
       "1  0.25  0.25  0.20  0.20  0.1\n",
       "2  0.30  0.20  0.25  0.15  0.1\n",
       "3  0.15  0.35  0.20  0.20  0.1\n",
       "4  0.25  0.30  0.15  0.20  0.1"
      ]
     },
     "metadata": {},
     "output_type": "display_data"
    },
    {
     "name": "stdout",
     "output_type": "stream",
     "text": [
      "\n",
      "First few target values:\n"
     ]
    },
    {
     "data": {
      "text/plain": [
       "0    250\n",
       "1    275\n",
       "2    300\n",
       "3    225\n",
       "4    260\n",
       "Name: HV, dtype: int64"
      ]
     },
     "metadata": {},
     "output_type": "display_data"
    }
   ],
   "source": [
    "predictor = AlloyPredictor()\n",
    "X, y = predictor.load_alloy_data('../data/sample_alloy_data.csv')\n",
    "\n",
    "print(\"Features shape:\", X.shape)\n",
    "print(\"\\nFirst few rows of features:\")\n",
    "display(X.head())\n",
    "print(\"\\nFirst few target values:\")\n",
    "display(y.head())"
   ]
  },
  {
   "cell_type": "markdown",
   "metadata": {},
   "source": [
    "## K-Fold Cross-Validation Analysis"
   ]
  },
  {
   "cell_type": "code",
   "execution_count": 3,
   "metadata": {},
   "outputs": [
    {
     "name": "stdout",
     "output_type": "stream",
     "text": [
      "K-fold Analysis Results:\n",
      "\n",
      "Fold 1:\n",
      "Training RMSE: 5.6977\n",
      "Testing RMSE: 12.0946\n",
      "Training R²: 0.9447\n",
      "Testing R²: -22.4047\n",
      "\n",
      "Fold 2:\n",
      "Training RMSE: 6.6365\n",
      "Testing RMSE: 10.5002\n",
      "Training R²: 0.9141\n",
      "Testing R²: 0.5100\n",
      "\n",
      "Fold 3:\n",
      "Training RMSE: 6.9911\n",
      "Testing RMSE: 9.6177\n",
      "Training R²: 0.8928\n",
      "Testing R²: -0.6444\n",
      "\n",
      "Fold 4:\n",
      "Training RMSE: 7.6376\n",
      "Testing RMSE: 5.0000\n",
      "Training R²: 0.8847\n",
      "Testing R²: 0.9184\n",
      "\n",
      "Fold 5:\n",
      "Training RMSE: 3.8188\n",
      "Testing RMSE: 22.6691\n",
      "Training R²: 0.9416\n",
      "Testing R²: 0.5135\n"
     ]
    }
   ],
   "source": [
    "results = predictor.perform_kfold_analysis(X, y, n_splits=5)\n",
    "\n",
    "print(\"K-fold Analysis Results:\")\n",
    "for fold in results['fold_results']:\n",
    "    print(f\"\\nFold {fold['fold']}:\")\n",
    "    print(f\"Training RMSE: {fold['rmse_train']:.4f}\")\n",
    "    print(f\"Testing RMSE: {fold['rmse_test']:.4f}\")\n",
    "    print(f\"Training R²: {fold['r2_train']:.4f}\")\n",
    "    print(f\"Testing R²: {fold['r2_test']:.4f}\")"
   ]
  },
  {
   "cell_type": "markdown",
   "metadata": {},
   "source": [
    "## Compare Analytical and Gradient Descent Solutions"
   ]
  },
  {
   "cell_type": "code",
   "execution_count": 4,
   "metadata": {},
   "outputs": [
    {
     "name": "stdout",
     "output_type": "stream",
     "text": [
      "Coefficient Comparison:\n",
      "Analytical Solution: [  -75.       621.875    320.      1260.      1208.4375 -1772.5   ]\n",
      "Gradient Descent: [225.1981563   70.72260171  39.14770945  51.91959826  40.17266254\n",
      "  22.13988657]\n"
     ]
    }
   ],
   "source": [
    "analytical_coef = predictor.analytical_solution(X, y)\n",
    "gradient_coef = predictor.gradient_descent(X, y)\n",
    "\n",
    "print(\"Coefficient Comparison:\")\n",
    "print(\"Analytical Solution:\", analytical_coef)\n",
    "print(\"Gradient Descent:\", gradient_coef)"
   ]
  },
  {
   "cell_type": "markdown",
   "metadata": {},
   "source": [
    "## Visualize Gradient Descent Convergence"
   ]
  },
  {
   "cell_type": "code",
   "execution_count": 5,
   "metadata": {},
   "outputs": [
    {
     "data": {
      "image/png": "[encoded data removed]",
      "text/plain": [
       "<Figure size 800x500 with 1 Axes>"
      ]
     },
     "metadata": {},
     "output_type": "display_data"
    }
   ],
   "source": [
    "predictor.plot_convergence(X, y)"
   ]
  },
  {
   "cell_type": "code",
   "execution_count": null,
   "metadata": {},
   "outputs": [],
   "source": []
  },
  {
   "cell_type": "code",
   "execution_count": null,
   "metadata": {},
   "outputs": [],
   "source": []
  }
 ],
 "metadata": {
  "kernelspec": {
   "display_name": "venv",
   "language": "python",
   "name": "python3"
  },
  "language_info": {
   "codemirror_mode": {
    "name": "ipython",
    "version": 3
   },
   "file_extension": ".py",
   "mimetype": "text/x-python",
   "name": "python",
   "nbconvert_exporter": "python",
   "pygments_lexer": "ipython3",
   "version": "3.8.0"
  }
 },
 "nbformat": 4,
 "nbformat_minor": 4
}
