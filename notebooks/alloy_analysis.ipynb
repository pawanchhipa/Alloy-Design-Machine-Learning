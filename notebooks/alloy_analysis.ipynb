{
 "cells": [
  {
   "cell_type": "markdown",
   "metadata": {},
   "source": [
    "# Alloy Property Prediction Analysis\n",
    "\n",
    "This notebook demonstrates the usage of the AlloyPredictor class for analyzing and predicting alloy properties."
   ]
  },
  {
   "cell_type": "code",
   "execution_count": null,
   "metadata": {},
   "source": [
    "import sys\n",
    "sys.path.append('..')\n",
    "\n",
    "import pandas as pd\n",
    "import numpy as np\n",
    "import matplotlib.pyplot as plt\n",
    "from alloy_ml_prediction import AlloyPredictor"
   ]
  },
  {
   "cell_type": "markdown",
   "metadata": {},
   "source": [
    "## Load and Examine Data"
   ]
  },
  {
   "cell_type": "code",
   "execution_count": null,
   "metadata": {},
   "source": [
    "predictor = AlloyPredictor()\n",
    "X, y = predictor.load_alloy_data('../data/sample_alloy_data.csv')\n",
    "\n",
    "print(\"Features shape:\", X.shape)\n",
    "print(\"\\nFirst few rows of features:\")\n",
    "display(X.head())\n",
    "print(\"\\nFirst few target values:\")\n",
    "display(y.head())"
   ]
  },
  {
   "cell_type": "markdown",
   "metadata": {},
   "source": [
    "## K-Fold Cross-Validation Analysis"
   ]
  },
  {
   "cell_type": "code",
   "execution_count": null,
   "metadata": {},
   "source": [
    "results = predictor.perform_kfold_analysis(X, y, n_splits=5)\n",
    "\n",
    "print(\"K-fold Analysis Results:\")\n",
    "for fold in results['fold_results']:\n",
    "    print(f\"\\nFold {fold['fold']}:\")\n",
    "    print(f\"Training RMSE: {fold['rmse_train']:.4f}\")\n",
    "    print(f\"Testing RMSE: {fold['rmse_test']:.4f}\")\n",
    "    print(f\"Training R²: {fold['r2_train']:.4f}\")\n",
    "    print(f\"Testing R²: {fold['r2_test']:.4f}\")"
   ]
  },
  {
   "cell_type": "markdown",
   "metadata": {},
   "source": [
    "## Compare Analytical and Gradient Descent Solutions"
   ]
  },
  {
   "cell_type": "code",
   "execution_count": null,
   "metadata": {},
   "source": [
    "analytical_coef = predictor.analytical_solution(X, y)\n",
    "gradient_coef = predictor.gradient_descent(X, y)\n",
    "\n",
    "print(\"Coefficient Comparison:\")\n",
    "print(\"Analytical Solution:\", analytical_coef)\n",
    "print(\"Gradient Descent:\", gradient_coef)"
   ]
  },
  {
   "cell_type": "markdown",
   "metadata": {},
   "source": [
    "## Visualize Gradient Descent Convergence"
   ]
  },
  {
   "cell_type": "code",
   "execution_count": null,
   "metadata": {},
   "source": [
    "predictor.plot_convergence(X, y)"
   ]
  }
 ],
 "metadata": {
  "kernelspec": {
   "display_name": "Python 3",
   "language": "python",
   "name": "python3"
  },
  "language_info": {
   "codemirror_mode": {
    "name": "ipython",
    "version": 3
   },
   "file_extension": ".py",
   "mimetype": "text/x-python",
   "name": "python",
   "nbconvert_exporter": "python",
   "pygments_lexer": "ipython3",
   "version": "3.8.0"
  }
 },
 "nbformat": 4,
 "nbformat_minor": 4
}
