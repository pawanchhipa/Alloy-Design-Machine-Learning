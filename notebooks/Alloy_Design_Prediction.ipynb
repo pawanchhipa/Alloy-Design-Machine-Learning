{
 "cells": [
  {
   "cell_type": "markdown",
   "metadata": {},
   "source": [
    "# Alloy Design and Prediction Using Machine Learning\n",
    "\n",
    "This notebook demonstrates the implementation of machine learning techniques for predicting alloy properties based on composition."
   ]
  },
  {
   "cell_type": "code",
   "execution_count": 1,
   "metadata": {},
   "outputs": [],
   "source": [
    "import sys\n",
    "sys.path.append('..')\n",
    "\n",
    "import numpy as np\n",
    "import pandas as pd\n",
    "import matplotlib.pyplot as plt\n",
    "from alloy_ml_prediction import AlloyPredictor"
   ]
  },
  {
   "cell_type": "markdown",
   "metadata": {},
   "source": [
    "## 1. Load and Explore Data"
   ]
  },
  {
   "cell_type": "code",
   "execution_count": 6,
   "metadata": {},
   "outputs": [
    {
     "name": "stdout",
     "output_type": "stream",
     "text": [
      "Features (X):\n"
     ]
    },
    {
     "data": {
      "text/html": [
       "<div>\n",
       "<style scoped>\n",
       "    .dataframe tbody tr th:only-of-type {\n",
       "        vertical-align: middle;\n",
       "    }\n",
       "\n",
       "    .dataframe tbody tr th {\n",
       "        vertical-align: top;\n",
       "    }\n",
       "\n",
       "    .dataframe thead th {\n",
       "        text-align: right;\n",
       "    }\n",
       "</style>\n",
       "<table border=\"1\" class=\"dataframe\">\n",
       "  <thead>\n",
       "    <tr style=\"text-align: right;\">\n",
       "      <th></th>\n",
       "      <th>C1</th>\n",
       "      <th>C2</th>\n",
       "      <th>C3</th>\n",
       "      <th>C4</th>\n",
       "      <th>C5</th>\n",
       "    </tr>\n",
       "  </thead>\n",
       "  <tbody>\n",
       "    <tr>\n",
       "      <th>0</th>\n",
       "      <td>0.20</td>\n",
       "      <td>0.20</td>\n",
       "      <td>0.20</td>\n",
       "      <td>0.20</td>\n",
       "      <td>0.20</td>\n",
       "    </tr>\n",
       "    <tr>\n",
       "      <th>1</th>\n",
       "      <td>0.25</td>\n",
       "      <td>0.25</td>\n",
       "      <td>0.25</td>\n",
       "      <td>0.15</td>\n",
       "      <td>0.10</td>\n",
       "    </tr>\n",
       "    <tr>\n",
       "      <th>2</th>\n",
       "      <td>0.30</td>\n",
       "      <td>0.20</td>\n",
       "      <td>0.20</td>\n",
       "      <td>0.15</td>\n",
       "      <td>0.15</td>\n",
       "    </tr>\n",
       "    <tr>\n",
       "      <th>3</th>\n",
       "      <td>0.15</td>\n",
       "      <td>0.25</td>\n",
       "      <td>0.20</td>\n",
       "      <td>0.20</td>\n",
       "      <td>0.20</td>\n",
       "    </tr>\n",
       "    <tr>\n",
       "      <th>4</th>\n",
       "      <td>0.10</td>\n",
       "      <td>0.30</td>\n",
       "      <td>0.20</td>\n",
       "      <td>0.20</td>\n",
       "      <td>0.20</td>\n",
       "    </tr>\n",
       "  </tbody>\n",
       "</table>\n",
       "</div>"
      ],
      "text/plain": [
       "     C1    C2    C3    C4    C5\n",
       "0  0.20  0.20  0.20  0.20  0.20\n",
       "1  0.25  0.25  0.25  0.15  0.10\n",
       "2  0.30  0.20  0.20  0.15  0.15\n",
       "3  0.15  0.25  0.20  0.20  0.20\n",
       "4  0.10  0.30  0.20  0.20  0.20"
      ]
     },
     "metadata": {},
     "output_type": "display_data"
    },
    {
     "name": "stdout",
     "output_type": "stream",
     "text": [
      "\n",
      "Target (y):\n"
     ]
    },
    {
     "data": {
      "text/plain": [
       "0    300\n",
       "1    320\n",
       "2    340\n",
       "3    290\n",
       "4    310\n",
       "Name: HV, dtype: int64"
      ]
     },
     "metadata": {},
     "output_type": "display_data"
    }
   ],
   "source": [
    "# Initialize predictor\n",
    "predictor = AlloyPredictor()\n",
    "\n",
    "# Load data\n",
    "X, y = predictor.load_alloy_data('../data/sample_data.csv')\n",
    "\n",
    "# Display first few rows\n",
    "print(\"Features (X):\")\n",
    "display(X.head())\n",
    "print(\"\\nTarget (y):\")\n",
    "display(y.head())"
   ]
  },
  {
   "cell_type": "markdown",
   "metadata": {},
   "source": [
    "## 2. K-Fold Cross-Validation Analysis"
   ]
  },
  {
   "cell_type": "code",
   "execution_count": 7,
   "metadata": {},
   "outputs": [
    {
     "name": "stdout",
     "output_type": "stream",
     "text": [
      "K-fold Analysis Results:\n",
      "\n",
      "Fold 1:\n",
      "Training RMSE: 11.7482\n",
      "Testing RMSE: 14.3372\n",
      "Training R²: 0.5173\n",
      "Testing R²: -31.8889\n",
      "\n",
      "Fold 2:\n",
      "Training RMSE: 11.7742\n",
      "Testing RMSE: 10.8662\n",
      "Training R²: 0.4005\n",
      "Testing R²: -17.8920\n",
      "\n",
      "Fold 3:\n",
      "Training RMSE: 11.7770\n",
      "Testing RMSE: 9.2755\n",
      "Training R²: 0.3473\n",
      "Testing R²: 0.4494\n",
      "\n",
      "Fold 4:\n",
      "Training RMSE: 1.7629\n",
      "Testing RMSE: 38.8165\n",
      "Training R²: 0.9875\n",
      "Testing R²: -8.6430\n",
      "\n",
      "Fold 5:\n",
      "Training RMSE: 9.5339\n",
      "Testing RMSE: 18.8480\n",
      "Training R²: 0.5845\n",
      "Testing R²: -5.3155\n"
     ]
    }
   ],
   "source": [
    "# Perform k-fold analysis\n",
    "results = predictor.perform_kfold_analysis(X, y, n_splits=5)\n",
    "\n",
    "# Display results\n",
    "print(\"K-fold Analysis Results:\")\n",
    "for fold in results['fold_results']:\n",
    "    print(f\"\\nFold {fold['fold']}:\")\n",
    "    print(f\"Training RMSE: {fold['rmse_train']:.4f}\")\n",
    "    print(f\"Testing RMSE: {fold['rmse_test']:.4f}\")\n",
    "    print(f\"Training R²: {fold['r2_train']:.4f}\")\n",
    "    print(f\"Testing R²: {fold['r2_test']:.4f}\")"
   ]
  },
  {
   "cell_type": "markdown",
   "metadata": {},
   "source": [
    "## 3. Compare Analytical and Gradient Descent Solutions"
   ]
  },
  {
   "cell_type": "code",
   "execution_count": 8,
   "metadata": {},
   "outputs": [
    {
     "name": "stdout",
     "output_type": "stream",
     "text": [
      "Coefficient Comparison:\n",
      "Analytical Solution: [ 1278.75   -1087.5     -955.9375  -565.625   -756.5625  -515.    ]\n",
      "Gradient Descent: [261.45189652  59.96969993  57.09872123  50.41723421  45.07991652\n",
      "  46.56972132]\n"
     ]
    }
   ],
   "source": [
    "# Get coefficients from both methods\n",
    "analytical_coef = predictor.analytical_solution(X, y)\n",
    "gradient_coef = predictor.gradient_descent(X, y)\n",
    "\n",
    "print(\"Coefficient Comparison:\")\n",
    "print(\"Analytical Solution:\", analytical_coef)\n",
    "print(\"Gradient Descent:\", gradient_coef)"
   ]
  },
  {
   "cell_type": "markdown",
   "metadata": {},
   "source": [
    "## 4. Visualize Gradient Descent Convergence"
   ]
  },
  {
   "cell_type": "code",
   "execution_count": 9,
   "metadata": {},
   "outputs": [
    {
     "data": {
      "image/png": "[encoded data removed]",
      "text/plain": [
       "<Figure size 800x500 with 1 Axes>"
      ]
     },
     "metadata": {},
     "output_type": "display_data"
    }
   ],
   "source": [
    "# Plot convergence\n",
    "predictor.plot_convergence(X, y)"
   ]
  },
  {
   "cell_type": "code",
   "execution_count": null,
   "metadata": {},
   "outputs": [],
   "source": []
  }
 ],
 "metadata": {
  "kernelspec": {
   "display_name": "venv",
   "language": "python",
   "name": "python3"
  },
  "language_info": {
   "codemirror_mode": {
    "name": "ipython",
    "version": 3
   },
   "file_extension": ".py",
   "mimetype": "text/x-python",
   "name": "python",
   "nbconvert_exporter": "python",
   "pygments_lexer": "ipython3",
   "version": "3.8.0"
  }
 },
 "nbformat": 4,
 "nbformat_minor": 4
}
